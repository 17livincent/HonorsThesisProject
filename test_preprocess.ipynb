{
 "cells": [
  {
   "cell_type": "markdown",
   "metadata": {},
   "source": [
    "## Functions"
   ]
  },
  {
   "cell_type": "code",
   "execution_count": null,
   "metadata": {},
   "outputs": [],
   "source": [
    "import numpy as np\n",
    "import pandas as pd\n",
    "from sklearn.preprocessing import StandardScaler, MinMaxScaler, PowerTransformer"
   ]
  },
  {
   "cell_type": "code",
   "execution_count": null,
   "metadata": {},
   "outputs": [],
   "source": [
    "data = pd.read_csv('../ex_data_2.csv')\n",
    "data"
   ]
  },
  {
   "cell_type": "code",
   "execution_count": null,
   "metadata": {},
   "outputs": [],
   "source": [
    "# Standardize\n",
    "def standardize(df):\n",
    "    standardize = StandardScaler()\n",
    "    trans = standardize.fit_transform(df)\n",
    "    return pd.DataFrame(trans)\n",
    "\n",
    "standardize(data)"
   ]
  },
  {
   "cell_type": "code",
   "execution_count": null,
   "metadata": {},
   "outputs": [],
   "source": [
    "# Normalize\n",
    "def normalize(df, min, max):\n",
    "    normalize = MinMaxScaler(feature_range = (min, max))\n",
    "    trans = normalize.fit_transform(df)\n",
    "    return pd.DataFrame(trans)\n",
    "\n",
    "normalize(data, 0, 1)"
   ]
  },
  {
   "cell_type": "code",
   "execution_count": null,
   "metadata": {},
   "outputs": [],
   "source": [
    "# Moving average filter\n",
    "def moving_avg_filter(df, window_size):\n",
    "    ws = window_size\n",
    "    if(window_size >= len(df.index)): \n",
    "        ws = len(df.index)\n",
    "    print(ws)\n",
    "    filtered = df.rolling(window = ws).mean()\n",
    "    filtered = filtered.dropna()\n",
    "    filtered = filtered.reset_index(drop = True)\n",
    "    return filtered\n",
    "\n",
    "moving_avg_filter(data, 2)"
   ]
  },
  {
   "cell_type": "code",
   "execution_count": null,
   "metadata": {},
   "outputs": [],
   "source": [
    "# Difference transformation\n",
    "def difference_transformation(df):\n",
    "    trans = df.diff()\n",
    "    trans = trans.dropna()\n",
    "    trans = trans.reset_index(drop = True)\n",
    "    return trans\n",
    "\n",
    "difference_transformation(data)"
   ]
  },
  {
   "cell_type": "code",
   "execution_count": null,
   "metadata": {},
   "outputs": [],
   "source": [
    "# Box-Cox power transformation\n",
    "def box_cox_power_trans(df):\n",
    "    scale = MinMaxScaler(feature_range = (1, 2))\n",
    "    bc = PowerTransformer(method='box-cox')\n",
    "    trans = scale.fit_transform(df)\n",
    "    trans = bc.fit_transform(trans)\n",
    "    return pd.DataFrame(trans)\n",
    "\n",
    "box_cox_power_trans(data)"
   ]
  },
  {
   "cell_type": "code",
   "execution_count": null,
   "metadata": {},
   "outputs": [],
   "source": [
    "# Yeo-Johnson transformation\n",
    "def yeo_johns_power_trans(df):\n",
    "    yj = PowerTransformer(method='yeo-johnson')\n",
    "    trans = yj.fit_transform(df)\n",
    "    return pd.DataFrame(trans)\n",
    "\n",
    "yeo_johns_power_trans(data)"
   ]
  },
  {
   "cell_type": "code",
   "execution_count": null,
   "metadata": {},
   "outputs": [],
   "source": [
    "# Divide standard deviations per column\n",
    "def div_stand_devs(df):\n",
    "    sd = df.std(axis = 0)\n",
    "    for i in df:\n",
    "        df[i] = df[i] / sd[i]\n",
    "    return df\n",
    "    \n",
    "div_stand_devs(data)"
   ]
  },
  {
   "cell_type": "code",
   "execution_count": null,
   "metadata": {},
   "outputs": [],
   "source": [
    "# Subtract means per column\n",
    "def sub_means(df):\n",
    "    means = df.mean(axis = 0)\n",
    "    for i in df:\n",
    "        df[i] = df[i] / means[i]\n",
    "    return df\n",
    "\n",
    "sub_means(data)"
   ]
  },
  {
   "cell_type": "markdown",
   "metadata": {},
   "source": [
    "## Visualizations"
   ]
  },
  {
   "cell_type": "code",
   "execution_count": null,
   "metadata": {},
   "outputs": [],
   "source": [
    "from matplotlib import pyplot"
   ]
  },
  {
   "cell_type": "code",
   "execution_count": null,
   "metadata": {},
   "outputs": [],
   "source": [
    "# Line plot\n",
    "data.plot(style='.')\n",
    "pyplot.title('Original Data')\n",
    "pyplot.show()\n",
    "yeo_johns_power_trans(data).plot(style = '.')\n",
    "pyplot.title('Preprocessed Data')\n",
    "pyplot.show()"
   ]
  },
  {
   "cell_type": "code",
   "execution_count": null,
   "metadata": {},
   "outputs": [],
   "source": [
    "# Histogram\n",
    "data.iloc[:, 0].hist()\n",
    "pyplot.show()\n",
    "yeo_johns_power_trans(data).iloc[:, 0].hist()\n",
    "pyplot.show()"
   ]
  },
  {
   "cell_type": "code",
   "execution_count": null,
   "metadata": {},
   "outputs": [],
   "source": [
    "# Density\n",
    "data.plot(kind = 'kde')\n",
    "pyplot.title('Original Data')\n",
    "pyplot.show()\n",
    "yeo_johns_power_trans(data).plot(kind = 'kde')\n",
    "pyplot.title('Preprocessed Data')\n",
    "pyplot.show()"
   ]
  },
  {
   "cell_type": "code",
   "execution_count": null,
   "metadata": {},
   "outputs": [],
   "source": [
    "# Heatmap\n",
    "pyplot.matshow(data)\n",
    "pyplot.title('Original Data')\n",
    "pyplot.show()\n",
    "pyplot.matshow(yeo_johns_power_trans(data))\n",
    "pyplot.title('Preprocessed Data')\n",
    "pyplot.show()"
   ]
  },
  {
   "cell_type": "code",
   "execution_count": null,
   "metadata": {},
   "outputs": [],
   "source": [
    "# Scatter plot\n",
    "from pandas.plotting import lag_plot\n",
    "lag_plot(data)\n",
    "pyplot.title('Original Data')\n",
    "pyplot.show()\n",
    "lag_plot(yeo_johns_power_trans(data))\n",
    "pyplot.title('Preprocessed Data')\n",
    "pyplot.show()"
   ]
  }
 ],
 "metadata": {
  "kernelspec": {
   "display_name": "Python 3",
   "language": "python",
   "name": "python3"
  },
  "language_info": {
   "codemirror_mode": {
    "name": "ipython",
    "version": 3
   },
   "file_extension": ".py",
   "mimetype": "text/x-python",
   "name": "python",
   "nbconvert_exporter": "python",
   "pygments_lexer": "ipython3",
   "version": "3.8.5"
  }
 },
 "nbformat": 4,
 "nbformat_minor": 4
}
