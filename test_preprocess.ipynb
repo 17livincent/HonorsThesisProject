{
 "cells": [
  {
   "cell_type": "code",
   "execution_count": null,
   "metadata": {},
   "outputs": [],
   "source": [
    "import numpy as np\n",
    "import pandas as pd\n",
    "from sklearn.preprocessing import StandardScaler, MinMaxScaler, PowerTransformer"
   ]
  },
  {
   "cell_type": "code",
   "execution_count": null,
   "metadata": {},
   "outputs": [],
   "source": [
    "data = pd.read_csv('../ex_data_1.csv')\n",
    "data"
   ]
  },
  {
   "cell_type": "code",
   "execution_count": null,
   "metadata": {},
   "outputs": [],
   "source": [
    "# Standardize\n",
    "def standardize(df):\n",
    "    standardize = StandardScaler()\n",
    "    trans = standardize.fit_transform(df)\n",
    "    return pd.DataFrame(trans)\n",
    "\n",
    "standardize(data)"
   ]
  },
  {
   "cell_type": "code",
   "execution_count": null,
   "metadata": {},
   "outputs": [],
   "source": [
    "# Normalize\n",
    "def normalize(df, min, max):\n",
    "    normalize = MinMaxScaler(feature_range = (min, max))\n",
    "    trans = normalize.fit_transform(df)\n",
    "    return pd.DataFrame(trans)\n",
    "\n",
    "normalize(data, 0, 1)"
   ]
  },
  {
   "cell_type": "code",
   "execution_count": null,
   "metadata": {},
   "outputs": [],
   "source": [
    "# Moving average filter\n",
    "def moving_avg_filter(df, window_size):\n",
    "    filtered = df.rolling(window = window_size).mean()\n",
    "    filtered = filtered.dropna()\n",
    "    return filtered\n",
    "\n",
    "moving_avg_filter(data, 2)"
   ]
  },
  {
   "cell_type": "code",
   "execution_count": null,
   "metadata": {},
   "outputs": [],
   "source": [
    "# Difference transformation\n",
    "def difference_transformation(df):\n",
    "    trans = df.diff()\n",
    "    trans = trans.dropna()\n",
    "    return trans\n",
    "\n",
    "difference_transformation(data)"
   ]
  },
  {
   "cell_type": "code",
   "execution_count": null,
   "metadata": {},
   "outputs": [],
   "source": [
    "# Box-Cox power transformation\n",
    "def box_cox_power_trans(df):\n",
    "    scale = MinMaxScaler(feature_range = (1, 2))\n",
    "    bc = PowerTransformer(method='box-cox')\n",
    "    trans = scale.fit_transform(df)\n",
    "    trans = bc.fit_transform(trans)\n",
    "    return pd.DataFrame(trans)\n",
    "\n",
    "box_cox_power_trans(data)"
   ]
  },
  {
   "cell_type": "code",
   "execution_count": null,
   "metadata": {},
   "outputs": [],
   "source": [
    "# Yeo-Johnson transformation\n",
    "def yeo_johns_power_trans(df):\n",
    "    yj = PowerTransformer(method='yeo-johnson')\n",
    "    trans = yj.fit_transform(df)\n",
    "    return pd.DataFrame(trans)\n",
    "\n",
    "yeo_johns_power_trans(data)"
   ]
  }
 ],
 "metadata": {
  "kernelspec": {
   "display_name": "Python 3",
   "language": "python",
   "name": "python3"
  },
  "language_info": {
   "codemirror_mode": {
    "name": "ipython",
    "version": 3
   },
   "file_extension": ".py",
   "mimetype": "text/x-python",
   "name": "python",
   "nbconvert_exporter": "python",
   "pygments_lexer": "ipython3",
   "version": "3.8.5"
  }
 },
 "nbformat": 4,
 "nbformat_minor": 4
}
